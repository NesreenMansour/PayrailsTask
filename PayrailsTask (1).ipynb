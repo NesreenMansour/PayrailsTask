{
 "cells": [
  {
   "cell_type": "markdown",
   "id": "1dcf444b",
   "metadata": {},
   "source": [
    "## Importing Libraries"
   ]
  },
  {
   "cell_type": "code",
   "execution_count": 2,
   "id": "49c97a70",
   "metadata": {},
   "outputs": [],
   "source": [
    "import requests\n",
    "import json\n",
    "import base64\n",
    "from jose import jwe"
   ]
  },
  {
   "cell_type": "markdown",
   "id": "8ca1f54f",
   "metadata": {},
   "source": [
    "## Calling the first API \n",
    "To get the access token to be able call the following APIs"
   ]
  },
  {
   "cell_type": "code",
   "execution_count": 3,
   "id": "5d0e66ad",
   "metadata": {},
   "outputs": [
    {
     "name": "stdout",
     "output_type": "stream",
     "text": [
      "Access Token:\n",
      "eyJhbGciOiJSUzI1NiIsImtpZCI6ImY1YjE1ODU0LWE3Y2YtNGFmMy1iNjU3LTI2NTJmNWM2YzY3OCIsInR5cCI6IkpXVCJ9.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.jzphnYIaMCCQui7JXXStkSSGpXr0nOyyT2FlSD_gI8OB8eSWzCopE91pDu0tq0Q-eNsDrbhfocCj18CDa4ljrAAHyzln-HbGhn2HsGNFgFfpFqvTjke27u9LAPOa-XKjTkyqw1OZJwMCmoaQ1o-VUFoCCb1Po5CrUkg81qYBDvKAmqUXbvfWvgHJGzq7kTVwGxLDcJHwGnj0ZNXSa8hgS-dbxJzxVpY3Kwji8-AFVJK89c_TSJv2NCTgeHOPYbhlXjKIoqW5bGMjNscOFSfHZUvmmijp_4vihu_aZ7qa7zK-BVELyM3h78Uk72g4dvo69w2uN2lSMoHfsNcCxBuOzA\n"
     ]
    }
   ],
   "source": [
    "# Configuration (replace with your actual values or config loading logic)\n",
    "payrails_config = {\n",
    "    \"ApiKey\": \"PV120FvhHL4CQUcjn9G0tDBpsKe2xkwsTZ56L36jgpTnKbIgkN5pxyaRlYg0wtuFoW1 cwodfBuccGcGQBwhQQ6i9D6LcuQnwqZAYmiH4Waou6UXzmfdBvsMaDff4e4VjppA mKUdpfBE481eIu9rhazc12H1UKqU5bqmKKxfbq9Yoe0owQjukvlckHmuVoGuyK4OZE ehMnHHLGPP5v3ag6BhKb1PUCKOFXuOP67B5SVCiFAovkmL7nRZ4db6EtUIH\",\n",
    "    \"BaseUrl\": \"http://localhost:3001/\",\n",
    "    \"ClientId\": \"1Tdkq5OKtz0BnA3VqCqvnvBJxZdTTxvA\"\n",
    "}\n",
    "\n",
    "# Step 1: Create an HTTP client session and add the API key header\n",
    "session = requests.Session()\n",
    "session.headers.update({\n",
    "    \"x-api-key\": payrails_config[\"ApiKey\"]\n",
    "})\n",
    "\n",
    "# Step 2: Send POST request to get the token\n",
    "auth_url = f\"{payrails_config['BaseUrl']}/auth/token/{payrails_config['ClientId']}\"\n",
    "response = session.post(auth_url)\n",
    "\n",
    "# Step 3: Read the token response\n",
    "token_json = response.text\n",
    "token_obj = json.loads(token_json)\n",
    "\n",
    "# Step 4: Add Bearer token to session headers\n",
    "access_token = token_obj[\"access_token\"]\n",
    "session.headers.update({\n",
    "    \"Authorization\": f\"Bearer {access_token}\"\n",
    "})\n",
    "print('Access Token:')\n",
    "print(access_token)"
   ]
  },
  {
   "cell_type": "markdown",
   "id": "79c8b6dc",
   "metadata": {},
   "source": [
    "## Calling the second API \n",
    "To get the Public Key, Key Id, and all relevant data.\n",
    "\n",
    "The response will be retrieved encoded and we need to decode it to extract the needed data"
   ]
  },
  {
   "cell_type": "code",
   "execution_count": 5,
   "id": "6613580c",
   "metadata": {},
   "outputs": [
    {
     "name": "stdout",
     "output_type": "stream",
     "text": [
      "Raw response:\n",
      "{\n",
      "  \"version\": \"1.0.0\",\n",
      "  \"data\": \"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\"\n",
      "}\n",
      "\n",
      "\n"
     ]
    }
   ],
   "source": [
    "# Assuming you already have the token in the client headers\n",
    "headers = {\n",
    "    \"x-api-key\": payrails_config['ApiKey'],  # or whatever variable holds it\n",
    "    \"Authorization\": f\"Bearer {access_token}\",  # access_token from previous step\n",
    "    \"Content-Type\": \"application/json\"\n",
    "}\n",
    "\n",
    "init_body = {\n",
    "    \"type\": \"tokenization\",\n",
    "    \"holderReference\": \"NM06082025\"\n",
    "}\n",
    "\n",
    "init_url = f\"{payrails_config['BaseUrl']}/merchant/client/init\"\n",
    "\n",
    "response = requests.post(init_url, headers=headers, json=init_body)\n",
    "\n",
    "print(\"Raw response:\")\n",
    "print(response.text)\n",
    "\n",
    "if not response.ok:\n",
    "    print(f\"HTTP Error: {response.status_code}\")\n",
    "    print(response.text)\n",
    "    exit()\n"
   ]
  },
  {
   "cell_type": "code",
   "execution_count": 6,
   "id": "f93d4a5d",
   "metadata": {},
   "outputs": [
    {
     "name": "stdout",
     "output_type": "stream",
     "text": [
      "Base64 Data: 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\n",
      "Decoded JSON:\n",
      "{\"token\":\"eyJhbGciOiJSUzI1NiIsImtpZCI6ImNmODFjNTJlLTczYTAtNDA0MC05Y2ViLWEwN2MzYWY4NjRmOSIsInR5cCI6IkpXVCJ9.eyJhdWQiOlsicGF5cmFpbHMtYmFja2VuZCJdLCJleHAiOjE2OTg1OTYwNjUsImh0dHBzOi8vcGF5cmFpbHMuaW8vY2xhaW1zL2N1c3RvbV9zY29wZSI6IntcImFsbG93c0FsbFwiOmZhbHNlLFwiZXhlY3V0aW9uSWRcIjpcIlwiLFwiaG9sZGVyUmVmZXJlbmNlXCI6XCJQYXlyYWlscyBQcm9kdWN0IGFzc2Vzc21lbnRcIixcInRva2VuaXphdGlvbklkXCI6XCI5YmY0ZDc1Zi0zMzQ4LTRhNDUtODE4MC1jNThlZjk4MDczNTVcIixcInR5cGVcIjpcImNsaWVudFwifSIsImlzcyI6InBheXJhaWxzIiwia2lkIjoiY2Y4MWM1MmUtNzNhMC00MDQwLTljZWItYTA3YzNhZjg2NGY5IiwicGVybWlzc2lvbnMiOlsiY2xpZW50OmV4ZWN1dGlvbnM6YXV0aG9yaXplIiwiY2xpZW50OmV4ZWN1dGlvbnM6Y29uZmlybSIsImNsaWVudDpleGVjdXRpb25zOnJlYWQiLCJjbGllbnQ6aW5zdHJ1bWVudHM6Y3JlYXRlIiwiY2xpZW50Omluc3RydW1lbnRzOnRva2VuaXplIl0sInN1YiI6Im1lcmNoYW50LXNkayJ9.geVNlQtu68McsmYzb7XaQ_iQrpvOBUNbsERUb9w3OD9r_0fv3C48I1HLBB90zDJJH1jtdFj8kYEPWU4Vy-TDGYje70ZNBPmbgy8D5HEjN5TJy9wIWk1zllIxNuF6Q70qwvITIcXZppXt6nXJ5eSdNiANTu5Q-znBHH_qfptOE4_ikudLBE8_g5dPpgdAQpQtjn29_49xU0mjdCGWitmsoHv2eq5nsf27GZAQPDhfQTOTarBOY8XoXt0D72Ze4jOiLvIAKzNACypeUSfCawkeykxCxwIlUBlAcxTQTcY4akNML4_p_tQLy3wB0OS_9Fnv-AMNK-0oB8lxKItb4fi5Gg\",\"holderReference\":\"Payrails Product assessment\",\"tokenization\":{\"id\":\"9bf4d75f-3348-4a45-8180-c58ef9807355\",\"publicKey\":\"MIIBIjANBgkqhkiG9w0BAQEFAAOCAQ8AMIIBCgKCAQEA3kOM8fTXa7oMdYxGCa9u8Z6ym2Ldczt2x7kAmHKV9jT8YG7PaGxv4E5nRjZnT9OU0fZZAGUGng1RDrRaCFwcZpOD5m56sG1LaYQ8dkaxSG2M1BynLeK9XRiZEmx1JhD0Pk4mm5sIFIg3Oa486CWMVrjgCpsF1VIgT7yGoNOk8tdOqPZ206ATXd+5BxArQ3aup9ziD0nsk66CRchXVCgF7Gc/ySEsc+B3GhF4qqFSvZbAJ4hG1uc1/8G2XbKoJIdpgc4QavnvtADATJBmqyHio70ds76gQJAMs8uMpgN9FOqYqj5XSEX9K/WbHQBnqjBoprZPngq8hzHukbx8XhqrfQIDAQAB\",\"links\":{\"tokenize\":{\"method\":\"POST\",\"href\":\"https://payrails-api-pub.staging.payrails.io/public/payment/instruments/tokenize\"}}}}\n"
     ]
    }
   ],
   "source": [
    "response_json = response.json()\n",
    "\n",
    "base64_data = response_json.get(\"data\")\n",
    "print(\"Base64 Data:\", base64_data)\n",
    "\n",
    "# Decode the Base64 URL-safe string\n",
    "decoded_bytes = base64.urlsafe_b64decode(base64_data + '==')  # Padding may be needed\n",
    "decoded_json = decoded_bytes.decode('utf-8')\n",
    "\n",
    "print(\"Decoded JSON:\")\n",
    "print(decoded_json)\n"
   ]
  },
  {
   "cell_type": "code",
   "execution_count": 7,
   "id": "1b4f3206",
   "metadata": {},
   "outputs": [
    {
     "name": "stdout",
     "output_type": "stream",
     "text": [
      "Holder Reference: Payrails Product assessment\n"
     ]
    }
   ],
   "source": [
    "credentials = json.loads(decoded_json)\n",
    "\n",
    "# Example: If needed in future\n",
    "holder_reference = credentials.get(\"holderReference\")\n",
    "print(\"Holder Reference:\", holder_reference)\n"
   ]
  },
  {
   "cell_type": "code",
   "execution_count": 12,
   "id": "a4821cc0",
   "metadata": {},
   "outputs": [
    {
     "name": "stdout",
     "output_type": "stream",
     "text": [
      "Public Key: MIIBIjANBgkqhkiG9w0BAQEFAAOCAQ8AMIIBCgKCAQEA3kOM8f...\n",
      "Key ID: 9bf4d75f-3348-4a45-8180-c58ef9807355\n",
      "Holder Reference: Payrails Product assessment\n",
      "Tokenization URL: https://payrails-api-pub.staging.payrails.io/public/payment/instruments/tokenize\n"
     ]
    }
   ],
   "source": [
    "# Parse required values safely from credentials\n",
    "public_key_base64 = credentials.get(\"tokenization\", {}).get(\"publicKey\")\n",
    "key_id = credentials.get(\"tokenization\", {}).get(\"id\")\n",
    "holder_reference = credentials.get(\"holderReference\")\n",
    "tokenize_url = credentials.get(\"tokenization\", {}).get(\"links\", {}).get(\"tokenize\", {}).get(\"href\")\n",
    "\n",
    "# Print to verify\n",
    "print(\"Public Key:\", public_key_base64[:50] + \"...\")  # Truncated\n",
    "print(\"Key ID:\", key_id)\n",
    "print(\"Holder Reference:\", holder_reference)\n",
    "print(\"Tokenization URL:\", tokenize_url)\n"
   ]
  },
  {
   "cell_type": "code",
   "execution_count": 13,
   "id": "4de23d65",
   "metadata": {},
   "outputs": [
    {
     "name": "stdout",
     "output_type": "stream",
     "text": [
      "Formatted PEM Public Key:\n",
      " -----BEGIN PUBLIC KEY-----\n",
      "MIIBIjANBgkqhkiG9w0BAQEFAAOCAQ8AMIIBCgKCAQEA3kOM8fTXa7oMdYxGCa9u\n",
      "8Z6ym2Ldczt2x7kAmHKV9jT8YG7PaGxv4E5nRjZnT9OU0fZZAGUGng1RDrRaCFwc\n",
      "ZpOD5m56sG1LaYQ8dkaxSG2M1BynLeK9XRiZEmx1JhD0Pk4mm5sIFIg3Oa486CWM\n",
      "VrjgCpsF1VIgT7yGoNOk8tdOqPZ206ATXd+5BxArQ3aup9ziD0nsk66CRchXVCgF\n",
      "7Gc/ySEsc+B3GhF4qqFSvZbAJ4hG1uc1/8G2XbKoJIdpgc4QavnvtADATJBmqyHi\n",
      "o70ds76gQJAMs8uMpgN9FOqYqj5XSEX9K/WbHQBnqjBoprZPngq8hzHukbx8Xhqr\n",
      "fQIDAQAB\n",
      "-----END PUBLIC KEY-----\n"
     ]
    }
   ],
   "source": [
    "def format_public_key_to_pem(public_key_base64: str) -> str:\n",
    "    pem_header = \"-----BEGIN PUBLIC KEY-----\"\n",
    "    pem_footer = \"-----END PUBLIC KEY-----\"\n",
    "    chunks = [public_key_base64[i:i+64] for i in range(0, len(public_key_base64), 64)]\n",
    "    pem_content = \"\\n\".join(chunks)\n",
    "    return f\"{pem_header}\\n{pem_content}\\n{pem_footer}\"\n",
    "\n",
    "pem_public_key = format_public_key_to_pem(public_key_base64)\n",
    "print(\"Formatted PEM Public Key:\\n\", pem_public_key)\n"
   ]
  },
  {
   "cell_type": "markdown",
   "id": "fc4334f2",
   "metadata": {},
   "source": [
    "## Adding the card details sample "
   ]
  },
  {
   "cell_type": "code",
   "execution_count": 77,
   "id": "63e4e806",
   "metadata": {},
   "outputs": [
    {
     "name": "stdout",
     "output_type": "stream",
     "text": [
      "Card JSON: {\n",
      "  \"cardNumber\": \"4111111111111111\",\n",
      "  \"expiryMonth\": \"03\",\n",
      "  \"expiryYear\": \"30\",\n",
      "  \"securityCode\": \"737\",\n",
      "  \"holderName\": \"John Doe\",\n",
      "  \"holderReference\": \"customer123\"\n",
      "}\n"
     ]
    }
   ],
   "source": [
    "card_details = {\n",
    "    \"cardNumber\": \"4111111111111111\",\n",
    "    \"expiryMonth\": \"03\",\n",
    "    \"expiryYear\": \"30\",\n",
    "    \"securityCode\": \"737\",\n",
    "    \"holderName\": \"John Doe\",\n",
    "    \"holderReference\": \"customer123\"#holder_reference  # Must match init step!\n",
    "}\n",
    "\n",
    "card_json_bytes = json.dumps(card_details).encode(\"utf-8\")\n",
    "print(\"Card JSON:\", json.dumps(card_details, indent=2))\n"
   ]
  },
  {
   "cell_type": "markdown",
   "id": "7ba42bef",
   "metadata": {},
   "source": [
    "## Encrypt the data \n",
    "to be able to pass it to the  tokenization API "
   ]
  },
  {
   "cell_type": "code",
   "execution_count": 75,
   "id": "e5d974b8",
   "metadata": {},
   "outputs": [
    {
     "name": "stdout",
     "output_type": "stream",
     "text": [
      "Encrypted JWE Token:\n",
      " eyJhbGciOiJSU0EtT0FFUC0yNTYiLCJlbmMiOiJBMjU2Q0JDLUhTNTEyIiwia2lkIjoiOWJmNGQ3NWYtMzM0OC00YTQ1LTgxODAtYzU4ZWY5ODA3MzU1In0.sRWVm9yQX-5miJnyFAagpGs69qC391_l8sUeGaWmzJo3588RPPtpwElod7cA5F4KHYfCBhWEsoJBS6YrMMz6EtPoHo1Dg7X4ofinVNsqASMjtEdYtVSQaXCtXgHpURfANIvV-iv_pLEbN7zboZXkM_z86VhlHexojVgW_kyJHeLt6qHmXYTNaHTbbT-R_toTJb_VQ1fShyvXzQ1PRMHEgAhNqLfM7brFjStwB6mVT_dRh7O77DhlJTTBY2useRXGAeza50SUIL42T85vLHnHCKDR08sXTLOxcqXLgYfQR9ADT-viiYoAmuNu2Uixr7w138eJBfPqfyn0f04VEbERMA.a_OfzHJ1YlnvoDMw8B7ovw.4kHlLjr45m8SJ3DoAzCMjp8sBmZzP3k9SMfxmKGIOq9NI8pSPdoyJT-wh1HA69mTChwB4mt7tnnai9ywqG8dfBrRxW6z33t8N5sq21vbBTP9FuaibjGt-lD_A81JJ1kgU6e-g0F1Xm1jrhg4n8VmLgx8MQophO-r9bOHliAcriP6lQFdBy_GtNW6V_le_693rlNlACfnfIjUneBrrbvnadHhT8z9yP7dmuFV7TDj93k26exNtOac4TDnL_hqQeTe.xCVkDYYmOj-oh-a7Wgc0_tqdYq7BEZuehVozdz9dhMg\n"
     ]
    }
   ],
   "source": [
    "from jwcrypto import jwk, jwe\n",
    "from jwcrypto.common import json_encode\n",
    "import base64\n",
    "\n",
    "# Your variables\n",
    "# public_key_base64 = '...'      # Base64-encoded public RSA key (as string)\n",
    "# key_id = '...'                 # Your key ID (kid)\n",
    "# card_json_bytes = b'...'       # Your card data as JSON bytes\n",
    "# Step 1: Decode the base64 key to DER format\n",
    "der_data = base64.b64decode(public_key_base64)\n",
    "\n",
    "# Step 2: Load it using cryptography (assume it's a public key in DER X.509/SPKI format)\n",
    "public_key = serialization.load_der_public_key(der_data, backend=default_backend())\n",
    "\n",
    "# Step 3: Convert to JWK\n",
    "public_jwk = jwk.JWK.from_pyca(public_key)\n",
    "public_jwk.update({'kid': key_id})\n",
    "\n",
    "# Step 4: Build JWE protected header\n",
    "protected_header = {\n",
    "    \"alg\": \"RSA-OAEP-256\",\n",
    "    \"enc\": \"A256CBC-HS512\",\n",
    "    \"kid\": key_id\n",
    "}\n",
    "\n",
    "# Step 5: Encrypt the data\n",
    "jwetoken = jwe.JWE(\n",
    "    plaintext=card_json_bytes,\n",
    "    protected=json_encode(protected_header)\n",
    ")\n",
    "jwetoken.add_recipient(public_jwk)\n",
    "\n",
    "# Step 6: Output JWE token in compact format\n",
    "encryptedCardData = jwetoken.serialize(compact=True)\n",
    "\n",
    "print(\"Encrypted JWE Token:\\n\", encryptedCardData)\n"
   ]
  },
  {
   "cell_type": "markdown",
   "id": "42d67c17",
   "metadata": {},
   "source": [
    "## Calling the tokenize API"
   ]
  },
  {
   "cell_type": "code",
   "execution_count": 76,
   "id": "1d7bf8de",
   "metadata": {},
   "outputs": [
    {
     "name": "stdout",
     "output_type": "stream",
     "text": [
      "📦 Tokenization Response:\n",
      "400\n",
      "{\n",
      "  \"errors\": [\n",
      "    {\n",
      "      \"id\": \"50b90fb5-1434-4804-82c2-2ebcbaab9cde\",\n",
      "      \"title\": \"request.malformed\",\n",
      "      \"detail\": \"request is malformed and/or missing required parameters\",\n",
      "      \"meta\": {}\n",
      "    }\n",
      "  ]\n",
      "}\n"
     ]
    }
   ],
   "source": [
    "tokenization_url = f\"{payrails_config['BaseUrl']}/public/payment/instruments/tokenize\"\n",
    "\n",
    "tokenization_payload = {\n",
    "    \"holderReference\": \"customer123\", #holder_reference,  # MUST match the encrypted payload!\n",
    "    \"encryptedInstrumentDetails\": encrypted_card_data,\n",
    "    \"futureUsage\": \"CardOnFile\",\n",
    "    \"storeInstrument\": True\n",
    "}\n",
    "\n",
    "headers = {\n",
    "    \"Authorization\": f\"Bearer {access_token}\",\n",
    "    \"x-api-key\": payrails_config['ApiKey'],\n",
    "    \"Content-Type\": \"application/json\"\n",
    "}\n",
    "\n",
    "response = requests.post(tokenization_url, headers=headers, json=tokenization_payload)\n",
    "\n",
    "print(\"📦 Tokenization Response:\")\n",
    "print(response.status_code)\n",
    "print(response.text)\n"
   ]
  },
  {
   "cell_type": "markdown",
   "id": "a52d8b38",
   "metadata": {},
   "source": [
    "## Results\n",
    "Unfortunately, I’m not sure why this error is occurring. I followed each step outlined in the assessment as carefully as possible, but I keep encountering the same error."
   ]
  },
  {
   "cell_type": "code",
   "execution_count": null,
   "id": "6be6e370",
   "metadata": {},
   "outputs": [],
   "source": []
  }
 ],
 "metadata": {
  "kernelspec": {
   "display_name": "Python 3 (ipykernel)",
   "language": "python",
   "name": "python3"
  },
  "language_info": {
   "codemirror_mode": {
    "name": "ipython",
    "version": 3
   },
   "file_extension": ".py",
   "mimetype": "text/x-python",
   "name": "python",
   "nbconvert_exporter": "python",
   "pygments_lexer": "ipython3",
   "version": "3.7.9"
  }
 },
 "nbformat": 4,
 "nbformat_minor": 5
}
